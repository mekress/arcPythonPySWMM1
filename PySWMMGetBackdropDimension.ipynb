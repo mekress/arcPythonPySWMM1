{
 "cells": [
  {
   "cell_type": "code",
   "execution_count": 1,
   "id": "356bcd24",
   "metadata": {},
   "outputs": [],
   "source": [
    "#####################################################################################################\n",
    "#\n",
    "#   October 9,2023\n",
    "#   Document this routin and clean-up.  The code is essentially the same.\n",
    "#   M. E. Kress, Pd. D.\n",
    "#   \n",
    "#   PBackDropDimension \n",
    "#   The purpose of this routine is to calculate the dimension to use in the \n",
    "#    desktop of SWMM corresponding to the specified Backdrop File.\n",
    "#    This is a subset of ReadandWriteINPV1.ipy\n",
    "#\n",
    "#\n",
    "#  Get the SWMMapi objects and set up encoding\n",
    "#\n",
    "import os\n",
    "import csv\n",
    "from decimal import Decimal, ROUND_DOWN\n",
    "#\n",
    "from swmm_api.input_file import read_inp_file, SwmmInput, section_labels as sections\n",
    "from swmm_api.input_file.sections import Outfall\n",
    "from swmm_api.input_file.macros.gis import write_geo_package, gpkg_to_swmm"
   ]
  },
  {
   "cell_type": "code",
   "execution_count": 2,
   "id": "05f8ea6a",
   "metadata": {},
   "outputs": [
    {
     "name": "stdout",
     "output_type": "stream",
     "text": [
      "{'encoding': 'utf-8', 'gis_decimals': 3, 'exe_path': None}\n",
      "{'encoding': 'utf-8', 'gis_decimals': 10, 'exe_path': None}\n"
     ]
    }
   ],
   "source": [
    "#   Set the precision of the GIS variables in the configuration file \n",
    "from swmm_api import CONFIG\n",
    "print(CONFIG)\n",
    "CONFIG['gis_decimals'] = 10\n",
    "print(CONFIG)"
   ]
  },
  {
   "cell_type": "code",
   "execution_count": 3,
   "id": "5bd90f73",
   "metadata": {},
   "outputs": [
    {
     "name": "stdout",
     "output_type": "stream",
     "text": [
      "C:\\Users\\M Kress\n",
      "C:\\Zhanyang\\SensorData\\CompoundFlooding\\SWMM\\PySWMM\\Campus\\S2S5Culverts\n"
     ]
    }
   ],
   "source": [
    "#   Note: Read input INP file, the \"r\" is for raw encoding for the \"\\\" special character \n",
    "#   eg: read_inp_file(r'C:\\Zhanyang\\SensorData\\CompoundFlooding\\SWMM\\PySWMM\\Campus\\CampusInputFile.inp')\n",
    "#\n",
    "#    Set working directory\n",
    "#\n",
    "print(os.getcwd())\n",
    "#WDirectory='C:\\\\Zhanyang\\\\SensorData\\\\CompoundFlooding\\\\SWMM\\\\PySWMM\\\\Campus\\\\Check'\n",
    "#WDirectory='C:\\\\Zhanyang\\\\SensorData\\\\CompoundFlooding\\\\SWMM\\\\PySWMM\\\\Campus\\\\All4_3'\n",
    "#WDirectory='C:\\\\Zhanyang\\\\SensorData\\\\CompoundFlooding\\\\SWMM\\\\PySWMM\\\\Campus\\\\LoopRdCulvert'\n",
    "WDirectory='C:\\\\Zhanyang\\\\SensorData\\\\CompoundFlooding\\\\SWMM\\\\PySWMM\\\\Campus\\\\S2S5Culverts'\n",
    "os.chdir(WDirectory)\n",
    "print(os.getcwd())"
   ]
  },
  {
   "cell_type": "code",
   "execution_count": 4,
   "id": "beeb6e06",
   "metadata": {},
   "outputs": [
    {
     "name": "stdout",
     "output_type": "stream",
     "text": [
      "S2S5WideView1.jgw\n",
      "<_io.TextIOWrapper name='S2S5WideView1.jgw' mode='r' encoding='cp1252'>\n",
      "readlines function:\n",
      "['0.000004844067135\\n', '0.000000000000000\\n', '0.000000000000000\\n', '-0.000004843587918\\n', '-74.156690766128946\\n', '40.608609224205914\\n']\n",
      "S2S5WideView1.jgw read\n",
      "[4.844067135e-06, 0.0, 0.0, -4.843587918e-06, -74.15669076612895, 40.608609224205914]\n",
      "XMinWD, YMinWD, XMaxWD, YMaxWD -74.15669076612895,40.59180681771837,-74.11912502549703,40.608609224205914\n"
     ]
    }
   ],
   "source": [
    "#\n",
    "#   Read Backdrop world coordinate file.\n",
    "#   This is an alternate way of getting the dimension and \n",
    "#   registrating the backdrop image.\n",
    "#   This file has to be coordinated with the Backdrop Image file.\n",
    "#   They do not have to be the same file name but it needs to have the \n",
    "#   same image registration values.\n",
    "#\n",
    "#WorldCoordinatesFile=\"CampusSWMMUtility3_30.jgw\"\n",
    "#WorldCoordinatesFile=\"CampusSWMMUtility4_2.jgw\"\n",
    "#BackDropFile=\"CampusSWMMUtility4_2.jpg\"\n",
    "#WorldCoordinatesFile=\"CampusSWMMLandUse.jgw\"\n",
    "#WorldCoordinatesFile=\"LoopRdStreamHydro1.jgw\"\n",
    "#BackDropFile=\"LoopRdStreamHydro1.jpg\"\n",
    "#WorldCoordinatesFile=\"CulvertStrWr1.jgw\"\n",
    "#BackDropFile=\"CulvertStrWr1.jpg\"\n",
    "#WorldCoordinatesFile=\"CulvertStrWr1.jgw\"\n",
    "#BackDropFile=\"CulvertStrWr1.jpg\"\n",
    "WorldCoordinatesFile=\"S2S5WideView1.jgw\"\n",
    "BackDropFile=\"S2S5WideView1.jpg\"\n",
    "#   for CampusSWMMLandUse  get the sizes when exporting the map from arcMap\n",
    "#NColsWD=7755.00\n",
    "#NRowsWD=3604.00\n",
    "#NColsWD=7756.00\n",
    "#NRowsWD=3469.00\n",
    "NColsWD=7755.00\n",
    "NRowsWD=3469.00\n",
    "#\n",
    "#   Note:\n",
    "#   The number of rows and columns corresponds to the raster of the image\n",
    "#   in the *.JPG Background file.  I used arcMap to read the *.JPG file to get the characteristics of \n",
    "#   the raster image.  It may also be shown when the map image is exported from arcMap.\n",
    "#\n",
    "#  for CampusSWMMUtility3_12 and 3_10\n",
    "#NRowsWD=3740.0\n",
    "#NColsWD=7755.0\n",
    "#   for CampusSWMMUtility3_30  get the sizes when exporting the map from arcMap\n",
    "#NRowsWD=3740.0\n",
    "#NColsWD=7641.0\n",
    "#   for CampusSWMMUtility4_2  get the sizes when exporting the map from arcMap\n",
    "#NColsWD=7641.00\n",
    "#NRowsWD=3604.00\n",
    "\n",
    "#\n",
    "print(WorldCoordinatesFile)\n",
    "InFile=open(WorldCoordinatesFile,\"r\")\n",
    "print(InFile)\n",
    "print(\"readlines function:\")\n",
    "WDR=InFile.readlines()\n",
    "InFile.close()\n",
    "print(WDR)\n",
    "print(WorldCoordinatesFile +' read')\n",
    "#\n",
    "#   Convert string variable to floats.\n",
    "#\n",
    "WDRF=[]\n",
    "WDRF[:]=(float(WDR[0]),float(WDR[1]),float(WDR[2]),float(WDR[3]),float(WDR[4]),float(WDR[5]))\n",
    "print(WDRF)\n",
    "#   Initialize the window variables and set their precision.\n",
    "XMinWD=0.000000000000\n",
    "YMinWD=0.000000000000\n",
    "XMaxWD=0.000000000000\n",
    "YMaxWD=0.000000000000\n",
    "#\n",
    "#   Set the Map window dimensions based of the *.jpg file.\n",
    "#   This formula is available at: https://www.openswmm.org/Topic/3136/swmm5-back-drop-image-world-reference\n",
    "#    \n",
    "XMinWD=WDRF[4]\n",
    "YMinWD=WDRF[5]+WDRF[3]*NRowsWD\n",
    "XMaxWD=XMinWD+WDRF[0]*NColsWD\n",
    "YMaxWD=WDRF[5]\n",
    "#\n",
    "print('XMinWD, YMinWD, XMaxWD, YMaxWD ' + str(XMinWD)+','+str(YMinWD)+','+str(XMaxWD)+','+str(YMaxWD))"
   ]
  },
  {
   "cell_type": "code",
   "execution_count": null,
   "id": "f1ffb4ae",
   "metadata": {},
   "outputs": [],
   "source": []
  },
  {
   "cell_type": "code",
   "execution_count": null,
   "id": "df4667d1",
   "metadata": {},
   "outputs": [],
   "source": []
  },
  {
   "cell_type": "code",
   "execution_count": null,
   "id": "88dad97f",
   "metadata": {},
   "outputs": [],
   "source": []
  }
 ],
 "metadata": {
  "kernelspec": {
   "display_name": "Python 3 (ipykernel)",
   "language": "python",
   "name": "python3"
  },
  "language_info": {
   "codemirror_mode": {
    "name": "ipython",
    "version": 3
   },
   "file_extension": ".py",
   "mimetype": "text/x-python",
   "name": "python",
   "nbconvert_exporter": "python",
   "pygments_lexer": "ipython3",
   "version": "3.9.17"
  }
 },
 "nbformat": 4,
 "nbformat_minor": 5
}
